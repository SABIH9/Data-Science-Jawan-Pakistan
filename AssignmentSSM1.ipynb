{
  "nbformat": 4,
  "nbformat_minor": 0,
  "metadata": {
    "colab": {
      "name": "AssignmentSSM1.ipynb",
      "provenance": [],
      "authorship_tag": "ABX9TyMDwRfViDX5EfrS5PSWzSfl",
      "include_colab_link": true
    },
    "kernelspec": {
      "name": "python3",
      "display_name": "Python 3"
    },
    "language_info": {
      "name": "python"
    }
  },
  "cells": [
    {
      "cell_type": "markdown",
      "metadata": {
        "id": "view-in-github",
        "colab_type": "text"
      },
      "source": [
        "<a href=\"https://colab.research.google.com/github/SABIH9/Data-Science-Jawan-Pakistan/blob/main/AssignmentSSM1.ipynb\" target=\"_parent\"><img src=\"https://colab.research.google.com/assets/colab-badge.svg\" alt=\"Open In Colab\"/></a>"
      ]
    },
    {
      "cell_type": "code",
      "execution_count": null,
      "metadata": {
        "id": "UuWCYh6GjPD1"
      },
      "outputs": [],
      "source": [
        "1. Write a Python program to print the following string in a specific format\n",
        "(see the output).\n",
        " Twinkle, twinkle, little star,\n",
        "         How I wonder what you are!\n",
        "                 Up above the world so high,\n",
        "                 Like a diamond in the sky.\n",
        " Twinkle, twinkle, little star,\n",
        "         How I wonder what you are!\n",
        "         "
      ]
    },
    {
      "cell_type": "code",
      "source": [
        "print(\"Twinkle, twinkle, little star, \\n\\tHow I wonder what you are! \\n\\t\\tUp above the world so high, \\n\\t\\tLike a diamond in the sky. \\nTwinkle, twinkle, little star, \\n\\tHow I wonder what you are!\")\n"
      ],
      "metadata": {
        "colab": {
          "base_uri": "https://localhost:8080/"
        },
        "id": "QJ802kztjYQG",
        "outputId": "7dc799ac-28e4-464a-a030-20e38651581c"
      },
      "execution_count": 1,
      "outputs": [
        {
          "output_type": "stream",
          "name": "stdout",
          "text": [
            "Twinkle, twinkle, little star, \n",
            "\tHow I wonder what you are! \n",
            "\t\tUp above the world so high, \n",
            "\t\tLike a diamond in the sky. \n",
            "Twinkle, twinkle, little star, \n",
            "\tHow I wonder what you are!\n"
          ]
        }
      ]
    },
    {
      "cell_type": "markdown",
      "source": [
        "2. Write a Python program to get the Python version you are using\n",
        "\n"
      ],
      "metadata": {
        "id": "VJt2ecD9jwcY"
      }
    },
    {
      "cell_type": "code",
      "source": [
        "import sys\n",
        "print(\"Python version that im using !!!\")\n",
        "print (sys.version)\n",
        "print(\"Version info.\")\n",
        "print (sys.version_info)"
      ],
      "metadata": {
        "colab": {
          "base_uri": "https://localhost:8080/"
        },
        "id": "uTVa7PxWj2ea",
        "outputId": "58d00efb-e958-456e-f191-ea858b5ae583"
      },
      "execution_count": 3,
      "outputs": [
        {
          "output_type": "stream",
          "name": "stdout",
          "text": [
            "Python version that im using !!!\n",
            "3.7.12 (default, Sep 10 2021, 00:21:48) \n",
            "[GCC 7.5.0]\n",
            "Version info.\n",
            "sys.version_info(major=3, minor=7, micro=12, releaselevel='final', serial=0)\n"
          ]
        }
      ]
    },
    {
      "cell_type": "markdown",
      "source": [
        "3. Write a Python program to display the current date and time.\n"
      ],
      "metadata": {
        "id": "bJbmgwkQq04T"
      }
    },
    {
      "cell_type": "code",
      "source": [
        "import datetime\n",
        "a = datetime.datetime.now()\n",
        "\n",
        "print (\"Current date and time in am ,pm format : \")\n",
        "print (a.strftime(\"%d-%m-%Y %I:%M:%S %p\"))\n",
        "\n",
        "print (\"Current date and time 24 hour format : \")\n",
        "print (a.strftime(\"%Y-%m-%d %H:%M:%S\"))\n"
      ],
      "metadata": {
        "colab": {
          "base_uri": "https://localhost:8080/"
        },
        "id": "eF-JMB0oq8Vd",
        "outputId": "440735ed-8509-4780-9566-235f2d08806c"
      },
      "execution_count": 4,
      "outputs": [
        {
          "output_type": "stream",
          "name": "stdout",
          "text": [
            "Current date and time in am ,pm format : \n",
            "02-01-2022 07:24:20 AM\n",
            "Current date and time 24 hour format : \n",
            "2022-01-02 07:24:20\n"
          ]
        }
      ]
    },
    {
      "cell_type": "markdown",
      "source": [
        "4. Write a Python program which accepts the radius of a circle from the user\n",
        "and compute the area.\n"
      ],
      "metadata": {
        "id": "NwZiCyjLrS_k"
      }
    },
    {
      "cell_type": "markdown",
      "source": [
        ""
      ],
      "metadata": {
        "id": "OxwnPsP7q6_V"
      }
    },
    {
      "cell_type": "code",
      "source": [
        "pi=3.14\n",
        "radius =float (input ('Enter the radius of a circle'))\n",
        "area=pi*radius*radius\n",
        "print(\"Area of the circle is : %.2f\"  %area)"
      ],
      "metadata": {
        "colab": {
          "base_uri": "https://localhost:8080/"
        },
        "id": "5ZS-SCrTrinl",
        "outputId": "94f74c9e-2a08-4d14-e686-2d1db874658f"
      },
      "execution_count": 6,
      "outputs": [
        {
          "output_type": "stream",
          "name": "stdout",
          "text": [
            "Enter the radius of a circle0.6\n",
            "Area of the circle is : 1.13\n"
          ]
        }
      ]
    },
    {
      "cell_type": "markdown",
      "source": [
        "5. Write a Python program which accepts the user's first and last name and\n",
        "print them in reverse order with a space between them.\n"
      ],
      "metadata": {
        "id": "SZHpDBSarvK1"
      }
    },
    {
      "cell_type": "code",
      "source": [
        "first_name = input(\"Enter your First Name : \")\n",
        "last_name = input(\"Enter your Last Name : \")\n",
        "print (last_name + \" \" + first_name)"
      ],
      "metadata": {
        "colab": {
          "base_uri": "https://localhost:8080/"
        },
        "id": "4X0QOa4xryoW",
        "outputId": "a62cbe7b-47c2-4fe2-cb17-d3f1612d45f7"
      },
      "execution_count": 7,
      "outputs": [
        {
          "output_type": "stream",
          "name": "stdout",
          "text": [
            "Enter your First Name : Syed \n",
            "Enter your Last Name : Sabeeh Murtaza\n",
            "Sabeeh Murtaza Syed \n"
          ]
        }
      ]
    },
    {
      "cell_type": "markdown",
      "source": [
        "6. Write a python program which takes two inputs from user and print them\n",
        "addition"
      ],
      "metadata": {
        "id": "mrpSXmrYr4c6"
      }
    },
    {
      "cell_type": "code",
      "source": [
        "a = int(input(\"Enter first number for addition :\"))\n",
        "b = int(input(\"Enter second number for addition :\"))\n",
        "print(\"Numbers after addition :\", a+b)"
      ],
      "metadata": {
        "colab": {
          "base_uri": "https://localhost:8080/"
        },
        "id": "UuBO4K7Yr_pd",
        "outputId": "9b5d21f2-5018-431f-9328-b0109e7a5e14"
      },
      "execution_count": 8,
      "outputs": [
        {
          "output_type": "stream",
          "name": "stdout",
          "text": [
            "Enter first number for addition :11\n",
            "Enter second number for addition :20\n",
            "Numbers after addition : 31\n"
          ]
        }
      ]
    },
    {
      "cell_type": "code",
      "source": [
        ""
      ],
      "metadata": {
        "id": "ScaTMhvSsZn4"
      },
      "execution_count": null,
      "outputs": []
    }
  ]
}